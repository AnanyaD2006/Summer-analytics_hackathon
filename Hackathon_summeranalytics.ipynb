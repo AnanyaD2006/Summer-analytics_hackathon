{
 "cells": [
  {
   "cell_type": "code",
   "execution_count": 195,
   "id": "3ef24d19-e6a3-4af0-86e8-f73012005ecd",
   "metadata": {},
   "outputs": [],
   "source": [
    "import numpy as np \n",
    "import pandas as pd \n"
   ]
  },
  {
   "cell_type": "code",
   "execution_count": 196,
   "id": "d08e679e-ac81-453e-8382-66f03979f350",
   "metadata": {},
   "outputs": [],
   "source": [
    "df = pd.read_csv(\"hacktrain.csv\")\n",
    "df\n",
    "df=df.drop('ID',axis=1)"
   ]
  },
  {
   "cell_type": "code",
   "execution_count": 197,
   "id": "6ebf9275-1c74-4acc-afa5-774f8c423c14",
   "metadata": {},
   "outputs": [],
   "source": [
    "\n",
    "df2=df.copy()\n"
   ]
  },
  {
   "cell_type": "code",
   "execution_count": 198,
   "id": "8ed9d380-1072-45b0-8011-1388eb4dc236",
   "metadata": {},
   "outputs": [
    {
     "data": {
      "text/plain": [
       "Unnamed: 0       0\n",
       "class            0\n",
       "20150720_N     560\n",
       "20150602_N    1200\n",
       "20150517_N     800\n",
       "20150501_N     960\n",
       "20150415_N     480\n",
       "20150330_N    1120\n",
       "20150314_N     720\n",
       "20150226_N    1360\n",
       "20150210_N     640\n",
       "20150125_N    1040\n",
       "20150109_N     880\n",
       "20141117_N    1280\n",
       "20141101_N     400\n",
       "20141016_N    1440\n",
       "20140930_N     800\n",
       "20140813_N     560\n",
       "20140626_N    1600\n",
       "20140610_N     480\n",
       "20140525_N     720\n",
       "20140509_N     880\n",
       "20140423_N    1760\n",
       "20140407_N     640\n",
       "20140322_N    1120\n",
       "20140218_N    1440\n",
       "20140202_N     560\n",
       "20140117_N    1200\n",
       "20140101_N     400\n",
       "dtype: int64"
      ]
     },
     "execution_count": 198,
     "metadata": {},
     "output_type": "execute_result"
    }
   ],
   "source": [
    "df2.isnull().sum()"
   ]
  },
  {
   "cell_type": "code",
   "execution_count": 199,
   "id": "f0f2ec02-7433-472d-a799-5224e9e6f282",
   "metadata": {},
   "outputs": [
    {
     "name": "stdout",
     "output_type": "stream",
     "text": [
      "              precision    recall  f1-score   support\n",
      "\n",
      "        farm       0.87      0.88      0.88       252\n",
      "      forest       0.99      0.99      0.99      1848\n",
      "       grass       0.86      0.73      0.79        59\n",
      "  impervious       0.85      0.89      0.87       201\n",
      "     orchard       1.00      0.33      0.50         9\n",
      "       water       0.86      0.81      0.83        31\n",
      "\n",
      "    accuracy                           0.96      2400\n",
      "   macro avg       0.91      0.77      0.81      2400\n",
      "weighted avg       0.96      0.96      0.96      2400\n",
      "\n"
     ]
    },
    {
     "name": "stderr",
     "output_type": "stream",
     "text": [
      "C:\\Users\\Ananya\\anaconda3\\Lib\\site-packages\\sklearn\\linear_model\\_logistic.py:1247: FutureWarning: 'multi_class' was deprecated in version 1.5 and will be removed in 1.7. From then on, it will always use 'multinomial'. Leave it to its default value to avoid this warning.\n",
      "  warnings.warn(\n"
     ]
    }
   ],
   "source": [
    "import pandas as pd\n",
    "from sklearn.linear_model import LogisticRegression\n",
    "from sklearn.model_selection import train_test_split\n",
    "from sklearn.preprocessing import LabelEncoder\n",
    "from sklearn.metrics import classification_report\n",
    "from sklearn.preprocessing import StandardScaler\n",
    "from imblearn.over_sampling import SMOTE\n",
    "from sklearn.experimental import enable_iterative_imputer\n",
    "from sklearn.impute import IterativeImputer\n",
    "from sklearn.linear_model import BayesianRidge \n",
    "\n",
    "\n",
    "label_encoder = LabelEncoder()\n",
    "df2['class'] = label_encoder.fit_transform(df2['class'])\n",
    "\n",
    "X = df2.drop(columns=['class'])\n",
    "y = df2['class']\n",
    "\n",
    "X_train, X_test, y_train, y_test = train_test_split(\n",
    "    X, y, test_size=0.3, random_state=42, stratify=y)\n",
    "\n",
    "iterative_imputer = IterativeImputer(\n",
    "    estimator=BayesianRidge(), \n",
    "    max_iter=10,\n",
    "    random_state=42\n",
    ")\n",
    "\n",
    "X_train_imputed = iterative_imputer.fit_transform(X_train)\n",
    "X_test_imputed = iterative_imputer.transform(X_test)\n",
    "\n",
    "scaler = StandardScaler()\n",
    "X_train_scaled = scaler.fit_transform(X_train_imputed)\n",
    "X_test_scaled = scaler.transform(X_test_imputed)\n",
    "\n",
    "smote_target = SMOTE(\n",
    "        sampling_strategy={4:100},  \n",
    "        random_state=42\n",
    "    )\n",
    "X_train_smote, y_train_smote = smote_target.fit_resample(X_train_scaled, y_train)\n",
    "\n",
    "\n",
    "model = LogisticRegression(\n",
    "    multi_class='multinomial',\n",
    "    solver='lbfgs',\n",
    "    max_iter=100,\n",
    ")\n",
    "model.fit(X_train_smote, y_train_smote)\n",
    "\n",
    "from sklearn.metrics import precision_recall_fscore_support\n",
    "\n",
    "orchard_threshold = 0.7  \n",
    "probs = model.predict_proba(X_test_scaled)\n",
    "\n",
    "y_pred_custom = []\n",
    "for row in probs:\n",
    "    if row[4] >= orchard_threshold:\n",
    "        y_pred_custom.append(4)\n",
    "    else:\n",
    "        row[4] = -1  \n",
    "        y_pred_custom.append(np.argmax(row))\n",
    "\n",
    "\n",
    "y_pred = model.predict(X_test_scaled)\n",
    "print(classification_report(y_test, y_pred_custom, target_names=label_encoder.classes_))\n"
   ]
  },
  {
   "cell_type": "code",
   "execution_count": 172,
   "id": "7a9ce6a4-6e9d-46a7-91a2-8504249e29cb",
   "metadata": {},
   "outputs": [
    {
     "name": "stderr",
     "output_type": "stream",
     "text": [
      "C:\\Users\\Ananya\\anaconda3\\Lib\\site-packages\\sklearn\\base.py:486: UserWarning: X has feature names, but StandardScaler was fitted without feature names\n",
      "  warnings.warn(\n"
     ]
    }
   ],
   "source": [
    "test_data = pd.read_csv(\"hacktest.csv\")\n",
    "ID = test_data['ID']\n",
    "features = test_data.drop(columns=['ID'])\n",
    "features_scaled = scaler.transform(features)"
   ]
  },
  {
   "cell_type": "code",
   "execution_count": 173,
   "id": "b549965f-b4b7-43c2-9e06-9eea50a3755a",
   "metadata": {},
   "outputs": [],
   "source": [
    "ID=test_data['ID']\n",
    "test_data.drop(['ID'],axis=1,inplace=True)"
   ]
  },
  {
   "cell_type": "code",
   "execution_count": 174,
   "id": "09032f25-2c07-48c5-a0b6-1d941b39b9b9",
   "metadata": {},
   "outputs": [
    {
     "data": {
      "text/plain": [
       "array(['forest', 'forest', 'forest', ..., 'water', 'water', 'water'],\n",
       "      dtype=object)"
      ]
     },
     "execution_count": 174,
     "metadata": {},
     "output_type": "execute_result"
    }
   ],
   "source": [
    "y_test = model.predict(features_scaled)\n",
    "y_test\n",
    "y_decoded = label_encoder.inverse_transform(y_test)\n",
    "y_decoded"
   ]
  },
  {
   "cell_type": "code",
   "execution_count": 175,
   "id": "a9442d57-dff4-4e93-ab72-ed066eb583d2",
   "metadata": {},
   "outputs": [
    {
     "data": {
      "text/plain": [
       "0       forest\n",
       "1       forest\n",
       "2       forest\n",
       "3       forest\n",
       "4       forest\n",
       "         ...  \n",
       "2840     water\n",
       "2841     water\n",
       "2842     water\n",
       "2843     water\n",
       "2844     water\n",
       "Name: class, Length: 2845, dtype: object"
      ]
     },
     "execution_count": 175,
     "metadata": {},
     "output_type": "execute_result"
    }
   ],
   "source": [
    "result = pd.DataFrame({\n",
    "    'ID': ID,\n",
    "    'class': y_decoded\n",
    "})\n",
    "result['class']"
   ]
  },
  {
   "cell_type": "code",
   "execution_count": 176,
   "id": "42aa4d68-8fd8-4762-90e6-e0d58550e323",
   "metadata": {},
   "outputs": [],
   "source": [
    "result.to_csv(\"submission13.csv\", index=False)"
   ]
  },
  {
   "cell_type": "code",
   "execution_count": 177,
   "id": "66ca943d-8a95-4f8c-b42e-21479b215c75",
   "metadata": {},
   "outputs": [],
   "source": [
    "df2=pd.read_csv(\"submission13.csv\")"
   ]
  },
  {
   "cell_type": "code",
   "execution_count": 178,
   "id": "53724976-c9d9-4394-8979-204e6d00f54b",
   "metadata": {},
   "outputs": [
    {
     "data": {
      "text/html": [
       "<div>\n",
       "<style scoped>\n",
       "    .dataframe tbody tr th:only-of-type {\n",
       "        vertical-align: middle;\n",
       "    }\n",
       "\n",
       "    .dataframe tbody tr th {\n",
       "        vertical-align: top;\n",
       "    }\n",
       "\n",
       "    .dataframe thead th {\n",
       "        text-align: right;\n",
       "    }\n",
       "</style>\n",
       "<table border=\"1\" class=\"dataframe\">\n",
       "  <thead>\n",
       "    <tr style=\"text-align: right;\">\n",
       "      <th></th>\n",
       "      <th>ID</th>\n",
       "      <th>class</th>\n",
       "    </tr>\n",
       "  </thead>\n",
       "  <tbody>\n",
       "    <tr>\n",
       "      <th>0</th>\n",
       "      <td>1</td>\n",
       "      <td>forest</td>\n",
       "    </tr>\n",
       "    <tr>\n",
       "      <th>1</th>\n",
       "      <td>2</td>\n",
       "      <td>forest</td>\n",
       "    </tr>\n",
       "    <tr>\n",
       "      <th>2</th>\n",
       "      <td>3</td>\n",
       "      <td>forest</td>\n",
       "    </tr>\n",
       "    <tr>\n",
       "      <th>3</th>\n",
       "      <td>4</td>\n",
       "      <td>forest</td>\n",
       "    </tr>\n",
       "    <tr>\n",
       "      <th>4</th>\n",
       "      <td>5</td>\n",
       "      <td>forest</td>\n",
       "    </tr>\n",
       "    <tr>\n",
       "      <th>5</th>\n",
       "      <td>6</td>\n",
       "      <td>forest</td>\n",
       "    </tr>\n",
       "    <tr>\n",
       "      <th>6</th>\n",
       "      <td>7</td>\n",
       "      <td>forest</td>\n",
       "    </tr>\n",
       "    <tr>\n",
       "      <th>7</th>\n",
       "      <td>8</td>\n",
       "      <td>forest</td>\n",
       "    </tr>\n",
       "    <tr>\n",
       "      <th>8</th>\n",
       "      <td>9</td>\n",
       "      <td>forest</td>\n",
       "    </tr>\n",
       "    <tr>\n",
       "      <th>9</th>\n",
       "      <td>10</td>\n",
       "      <td>forest</td>\n",
       "    </tr>\n",
       "    <tr>\n",
       "      <th>10</th>\n",
       "      <td>11</td>\n",
       "      <td>forest</td>\n",
       "    </tr>\n",
       "    <tr>\n",
       "      <th>11</th>\n",
       "      <td>12</td>\n",
       "      <td>forest</td>\n",
       "    </tr>\n",
       "    <tr>\n",
       "      <th>12</th>\n",
       "      <td>13</td>\n",
       "      <td>forest</td>\n",
       "    </tr>\n",
       "    <tr>\n",
       "      <th>13</th>\n",
       "      <td>14</td>\n",
       "      <td>forest</td>\n",
       "    </tr>\n",
       "    <tr>\n",
       "      <th>14</th>\n",
       "      <td>15</td>\n",
       "      <td>forest</td>\n",
       "    </tr>\n",
       "    <tr>\n",
       "      <th>15</th>\n",
       "      <td>16</td>\n",
       "      <td>forest</td>\n",
       "    </tr>\n",
       "    <tr>\n",
       "      <th>16</th>\n",
       "      <td>17</td>\n",
       "      <td>forest</td>\n",
       "    </tr>\n",
       "    <tr>\n",
       "      <th>17</th>\n",
       "      <td>18</td>\n",
       "      <td>forest</td>\n",
       "    </tr>\n",
       "    <tr>\n",
       "      <th>18</th>\n",
       "      <td>19</td>\n",
       "      <td>forest</td>\n",
       "    </tr>\n",
       "    <tr>\n",
       "      <th>19</th>\n",
       "      <td>20</td>\n",
       "      <td>forest</td>\n",
       "    </tr>\n",
       "    <tr>\n",
       "      <th>20</th>\n",
       "      <td>21</td>\n",
       "      <td>forest</td>\n",
       "    </tr>\n",
       "    <tr>\n",
       "      <th>21</th>\n",
       "      <td>22</td>\n",
       "      <td>forest</td>\n",
       "    </tr>\n",
       "    <tr>\n",
       "      <th>22</th>\n",
       "      <td>23</td>\n",
       "      <td>forest</td>\n",
       "    </tr>\n",
       "    <tr>\n",
       "      <th>23</th>\n",
       "      <td>24</td>\n",
       "      <td>water</td>\n",
       "    </tr>\n",
       "    <tr>\n",
       "      <th>24</th>\n",
       "      <td>25</td>\n",
       "      <td>water</td>\n",
       "    </tr>\n",
       "    <tr>\n",
       "      <th>25</th>\n",
       "      <td>26</td>\n",
       "      <td>water</td>\n",
       "    </tr>\n",
       "    <tr>\n",
       "      <th>26</th>\n",
       "      <td>27</td>\n",
       "      <td>water</td>\n",
       "    </tr>\n",
       "    <tr>\n",
       "      <th>27</th>\n",
       "      <td>28</td>\n",
       "      <td>forest</td>\n",
       "    </tr>\n",
       "    <tr>\n",
       "      <th>28</th>\n",
       "      <td>29</td>\n",
       "      <td>water</td>\n",
       "    </tr>\n",
       "    <tr>\n",
       "      <th>29</th>\n",
       "      <td>30</td>\n",
       "      <td>water</td>\n",
       "    </tr>\n",
       "  </tbody>\n",
       "</table>\n",
       "</div>"
      ],
      "text/plain": [
       "    ID   class\n",
       "0    1  forest\n",
       "1    2  forest\n",
       "2    3  forest\n",
       "3    4  forest\n",
       "4    5  forest\n",
       "5    6  forest\n",
       "6    7  forest\n",
       "7    8  forest\n",
       "8    9  forest\n",
       "9   10  forest\n",
       "10  11  forest\n",
       "11  12  forest\n",
       "12  13  forest\n",
       "13  14  forest\n",
       "14  15  forest\n",
       "15  16  forest\n",
       "16  17  forest\n",
       "17  18  forest\n",
       "18  19  forest\n",
       "19  20  forest\n",
       "20  21  forest\n",
       "21  22  forest\n",
       "22  23  forest\n",
       "23  24   water\n",
       "24  25   water\n",
       "25  26   water\n",
       "26  27   water\n",
       "27  28  forest\n",
       "28  29   water\n",
       "29  30   water"
      ]
     },
     "execution_count": 178,
     "metadata": {},
     "output_type": "execute_result"
    }
   ],
   "source": [
    "df2.head(30)"
   ]
  },
  {
   "cell_type": "code",
   "execution_count": null,
   "id": "916d875d-4b6e-4a5c-baba-5eae5616f870",
   "metadata": {},
   "outputs": [],
   "source": []
  }
 ],
 "metadata": {
  "kernelspec": {
   "display_name": "Python [conda env:base] *",
   "language": "python",
   "name": "conda-base-py"
  },
  "language_info": {
   "codemirror_mode": {
    "name": "ipython",
    "version": 3
   },
   "file_extension": ".py",
   "mimetype": "text/x-python",
   "name": "python",
   "nbconvert_exporter": "python",
   "pygments_lexer": "ipython3",
   "version": "3.12.7"
  }
 },
 "nbformat": 4,
 "nbformat_minor": 5
}
